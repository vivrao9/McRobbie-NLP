{
 "cells": [
  {
   "cell_type": "code",
   "execution_count": 1,
   "metadata": {},
   "outputs": [],
   "source": [
    "import requests\n",
    "import bs4\n",
    "import os"
   ]
  },
  {
   "cell_type": "code",
   "execution_count": 5,
   "metadata": {
    "scrolled": true
   },
   "outputs": [
    {
     "name": "stdout",
     "output_type": "stream",
     "text": [
      "Done!\n"
     ]
    }
   ],
   "source": [
    "#collect speeches from president.iu.edu/speeches/select-speeches\n",
    "#end of range would be 8 for statements, 17 for speeches, and 3 for SotUs\n",
    "for page_num in range(1,3):\n",
    "    #start by querying page one\n",
    "    \n",
    "    #once the loop goes through its first iteration, it will return to the iteration \"page_num=2\"\n",
    "    re = requests.get('https://president.iu.edu/speeches/state-of-university/index.html?page=' + str(page_num))\n",
    "    page_soup = bs4.BeautifulSoup(re.text)\n",
    "    URLs = page_soup.select('h2[class=\"no-margin title\"] > a')\n",
    "    for i in range(len(URLs)):\n",
    "        try:\n",
    "            speech_url = URLs[i].get('href')\n",
    "\n",
    "            #speech req = speech request\n",
    "            #will definitely forget what this means in a week\n",
    "            speech_req = requests.get(speech_url)\n",
    "            speech_soup = bs4.BeautifulSoup(speech_req.text)\n",
    "\n",
    "            #select title of speech for file name\n",
    "            #hed = speech_soup.select('div > h2')[0].getText()\n",
    "            #if hed.endswith('\\n'):\n",
    "            #hed = hed[0:-2]\n",
    "\n",
    "            #select contents of speech\n",
    "            copy = speech_soup.select('div[class=\"text\"] > p')\n",
    "\n",
    "            #clean text\n",
    "            for i in range(len(copy)):\n",
    "                copy[i] = copy[i].getText()\n",
    "\n",
    "            #concatenate paragraphs into one string\n",
    "            copy = \"\\n\\n\".join(copy)\n",
    "\n",
    "            #write to a file\n",
    "            file = open(\"C:\\\\Users\\\\Vivek Rao\\\\Desktop\\\\IDS\\\\Digital\\\\McRobbie NLP\\\\SotU\\\\\" + speech_url[54:-5]+ \".txt\",\"a\", encoding=\"utf-8\")\n",
    "            file.write(copy)\n",
    "            file.close()\n",
    "            \n",
    "        except Exception as e:\n",
    "            print('Something went wrong with ' + speech_url, '\\n', e)\n",
    "    \n",
    "print('Done!')"
   ]
  },
  {
   "cell_type": "code",
   "execution_count": null,
   "metadata": {},
   "outputs": [],
   "source": []
  }
 ],
 "metadata": {
  "kernelspec": {
   "display_name": "Python 3",
   "language": "python",
   "name": "python3"
  },
  "language_info": {
   "codemirror_mode": {
    "name": "ipython",
    "version": 3
   },
   "file_extension": ".py",
   "mimetype": "text/x-python",
   "name": "python",
   "nbconvert_exporter": "python",
   "pygments_lexer": "ipython3",
   "version": "3.7.4"
  }
 },
 "nbformat": 4,
 "nbformat_minor": 2
}
