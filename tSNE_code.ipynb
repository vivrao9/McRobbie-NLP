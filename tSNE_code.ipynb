{
 "cells": [
  {
   "cell_type": "code",
   "execution_count": 1,
   "metadata": {},
   "outputs": [],
   "source": [
    "#Hi! Thanks so much for helping us out with this!\n",
    "\n",
    "#my main question is: I'm not 100% sure of the arguments passed in the last two cells\n",
    "#should I do something differently? I'm not sure if this gives the best results\n",
    "\n",
    "#I used this site as a source: https://dataplatform.cloud.ibm.com/analytics/notebooks/v2/3bee909a-5b69-4a50-9cd3-fdcd98fa5bd1/view?access_token=178b412e00a89ec0bca53f6fa65e9be58e392b23f684cb7377418ead7b8af4c2\n",
    "#The code from above link was used in this story: https://pudding.cool/2018/11/dearabby/\n",
    "\n",
    "import pandas as pd\n",
    "import numpy as np\n",
    "import re, os, time, json, csv\n",
    "\n",
    "import nltk\n",
    "from nltk.stem import WordNetLemmatizer\n",
    "\n",
    "from sklearn.decomposition import PCA\n",
    "from sklearn.feature_extraction.text import TfidfVectorizer\n",
    "from sklearn.decomposition import TruncatedSVD\n",
    "from sklearn.manifold import TSNE\n",
    "\n",
    "from gensim.models import word2vec"
   ]
  },
  {
   "cell_type": "code",
   "execution_count": 2,
   "metadata": {},
   "outputs": [],
   "source": [
    "#load master speeches dataframe\n",
    "df=pd.read_excel(r'C:\\Users\\Vivek Rao\\Desktop\\IDS\\Digital\\McRobbie NLP\\speeches\\master_speeches.xlsx')"
   ]
  },
  {
   "cell_type": "code",
   "execution_count": 3,
   "metadata": {},
   "outputs": [
    {
     "data": {
      "text/html": [
       "<div>\n",
       "<style scoped>\n",
       "    .dataframe tbody tr th:only-of-type {\n",
       "        vertical-align: middle;\n",
       "    }\n",
       "\n",
       "    .dataframe tbody tr th {\n",
       "        vertical-align: top;\n",
       "    }\n",
       "\n",
       "    .dataframe thead th {\n",
       "        text-align: right;\n",
       "    }\n",
       "</style>\n",
       "<table border=\"1\" class=\"dataframe\">\n",
       "  <thead>\n",
       "    <tr style=\"text-align: right;\">\n",
       "      <th></th>\n",
       "      <th>date</th>\n",
       "      <th>venue</th>\n",
       "      <th>title</th>\n",
       "      <th>contents</th>\n",
       "    </tr>\n",
       "  </thead>\n",
       "  <tbody>\n",
       "  </tbody>\n",
       "</table>\n",
       "</div>"
      ],
      "text/plain": [
       "Empty DataFrame\n",
       "Columns: [date, venue, title, contents]\n",
       "Index: []"
      ]
     },
     "execution_count": 3,
     "metadata": {},
     "output_type": "execute_result"
    }
   ],
   "source": [
    "#find missing values in the contents column\n",
    "df[df.contents.isna()==True]"
   ]
  },
  {
   "cell_type": "code",
   "execution_count": 4,
   "metadata": {},
   "outputs": [],
   "source": [
    "#write function to clean sentences\n",
    "#will be used as tokenizer in next cell\n",
    "df_cleaned = df.copy()\n",
    "\n",
    "wordnet_lemmatizer = WordNetLemmatizer()\n",
    "\n",
    "#write function\n",
    "def clean_text(text):\n",
    "    #lowercase text first\n",
    "    text=text.lower()\n",
    "    text=text.replace('\\n', ' ')\n",
    "    text=text.replace('\\t', ' ')\n",
    "    tokens = nltk.word_tokenize(text)\n",
    "    text=[word for word in tokens if not word in set(nlp.corpus.stopwords.words('english'))]\n",
    "    stems = []\n",
    "    for item in text:\n",
    "        stems.append(wordnet_lemmatizer.lemmatize(item))\n",
    "    return stems"
   ]
  },
  {
   "cell_type": "code",
   "execution_count": null,
   "metadata": {},
   "outputs": [],
   "source": [
    "t0=time.time()\n",
    "\n",
    "#first step: set up the model by loading in the sentence cleaner.\n",
    "#the following step does not run the model\n",
    "tfidf = TfidfVectorizer(stop_words='english', tokenizer=clean_text, min_df=0.025, max_df=.5)\n",
    "\n",
    "#next, run the model on speeches, i.e. the 'Contents' column of the DataFrame\n",
    "tfs = tfidf.fit_transform(df.contents)\n",
    "print('Time elapsed: {} seconds'.format(time.time()-t0))"
   ]
  },
  {
   "cell_type": "code",
   "execution_count": null,
   "metadata": {},
   "outputs": [],
   "source": [
    "#reduce number of dimensions of text to make analysis easier\n",
    "#n_components is 3 because we want the visualization to be three-dimensional\n",
    "tfs_reduced = TruncatedSVD(n_components=3, random_state=0).fit_transform(tfs)\n",
    "print(tfs_reduced, len(tfs_reduced))\n",
    "\n",
    "#convert speech titles to a list to append to each x-y-z coordinate,\n",
    "#so users know what speech they're hovering over\n",
    "#to see a demo of the visualization, check out tsne3d.html\n",
    "speech_title = df.title.to_list()\n",
    "speech = df.contents.to_list()\n",
    "dict={}\n",
    "for speech_title, speech in zip(speech_title, speech):\n",
    "    dict[speech_title]=speech\n",
    "    \n",
    "#print for my sanity\n",
    "list(dict.keys())"
   ]
  },
  {
   "cell_type": "code",
   "execution_count": null,
   "metadata": {},
   "outputs": [],
   "source": [
    "#run above dictionary through the TSNE model\n",
    "#n_components is 3 because we want this to be three-dimensional\n",
    "#function documentation can be found here: https://scikit-learn.org/stable/modules/generated/sklearn.manifold.TSNE.html\n",
    "model = TSNE(n_components=3, perplexity=35, verbose=6, method='exact').fit_transform(tfs_reduced)\n",
    "\n",
    "# save to json\n",
    "x_axis=model[:,0]\n",
    "y_axis=model[:,1]\n",
    "z_axis=model[:,2]\n",
    "\n",
    "x_norm = (x_axis-np.min(x_axis)) / (np.max(x_axis) - np.min(x_axis))\n",
    "y_norm = (y_axis-np.min(y_axis)) / (np.max(y_axis) - np.min(y_axis))\n",
    "z_norm = (z_axis-np.min(z_axis)) / (np.max(z_axis) - np.min(z_axis))\n",
    "\n",
    "data = {\"x\":x_norm.tolist(), \"y\":y_norm.tolist(), \"z\":z_norm.tolist(), \"names\":list(dict.keys())}\n",
    "\n",
    "with open(r'C:\\Users\\Vivek Rao\\Desktop\\IDS\\Digital\\McRobbie NLP\\model_120620.json', 'w') as outfile:\n",
    "    json.dump(data, outfile)"
   ]
  }
 ],
 "metadata": {
  "kernelspec": {
   "display_name": "Python 3",
   "language": "python",
   "name": "python3"
  },
  "language_info": {
   "codemirror_mode": {
    "name": "ipython",
    "version": 3
   },
   "file_extension": ".py",
   "mimetype": "text/x-python",
   "name": "python",
   "nbconvert_exporter": "python",
   "pygments_lexer": "ipython3",
   "version": "3.7.4"
  }
 },
 "nbformat": 4,
 "nbformat_minor": 2
}
